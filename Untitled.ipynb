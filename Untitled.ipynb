{
 "cells": [
  {
   "cell_type": "markdown",
   "id": "2f87fa55",
   "metadata": {},
   "source": [
    "nltk.download()"
   ]
  },
  {
   "cell_type": "markdown",
   "id": "1d07dd9f",
   "metadata": {},
   "source": [
    "### Important Keywords to remember while interview:\n",
    "#Tokenizing = Form of grouping\n",
    "1. Word Tokenizer - Breaks sentence into words\n",
    "2. Sentence Tokenizer - Breaks paragraph into sentences\n",
    "3. Lexicon and corporas - Collection of words\n",
    "    a. Corporas - body of text, \n",
    "        for example: \n",
    "            1.Journal, Magazine, Presidential Speech, English language\n",
    "    b. Lexicon - Work and their Means\n",
    "        for example: \n",
    "            living being - : 'Bull' -> Animal\n",
    "            investor speak bull - : 'Bull' -> someone who is positive about market\n",
    "                \n",
    "                \n",
    "Example text= 'Hello there, How are you doing today? the weather is great and you should enjoy the sun'\n",
    "Example tokens= ['hello', 'there', 'how', 'are', 'you', 'doing', 'today', 'the', 'weather', 'is', 'great', 'and', 'you', 'should', 'enjoy', 'the', 'sun']\n",
    "print(nltk.word_tokenize(Example_text))            \n",
    "           "
   ]
  },
  {
   "cell_type": "code",
   "execution_count": 10,
   "id": "5b0b6641",
   "metadata": {},
   "outputs": [],
   "source": [
    "from nltk.tokenize import sent_tokenize, word_tokenize "
   ]
  },
  {
   "cell_type": "markdown",
   "id": "a23e00c5",
   "metadata": {},
   "source": [
    "### 1. Following This line imports the sent_tokenize and word_tokenize functions from the NLTK (Natural Language Toolkit) library. NLTK is a popular library for natural language processing tasks in Python."
   ]
  },
  {
   "cell_type": "code",
   "execution_count": 13,
   "id": "feb12a4b",
   "metadata": {},
   "outputs": [
    {
     "name": "stdout",
     "output_type": "stream",
     "text": [
      "['Hello', 'there', ',', 'How', 'are', 'you', 'doing', 'today', '?', 'the', 'weather', 'is', 'great', 'and', 'you', 'should', 'enjoy', 'the', 'sun']\n",
      "['Hello there, How are you doing today?', 'the weather is great and you should enjoy the sun']\n"
     ]
    }
   ],
   "source": [
    "Assume_corpus= 'Hello there, How are you doing today? the weather is great and you should enjoy the sun'\n",
    "\n",
    "#Example_tokens this should be the output for above corpus or example text = ['hello', 'there', 'how', 'are', 'you', 'doing', 'today', 'the', 'weather', 'is', 'great', 'and', 'you', 'should', 'enjoy', 'the', 'sun']\n",
    "\n",
    "\n",
    "\n",
    "print(nltk.word_tokenize(Assume_corpus))            \n",
    "print(sent_tokenize(Assume_corpus))           "
   ]
  },
  {
   "cell_type": "markdown",
   "id": "feb037e4",
   "metadata": {},
   "source": [
    "### 2. Following line creates a string variable named Assume_corpus containing a sample text. This text represents a sentence with punctuation and is used as a corpus for tokenization."
   ]
  },
  {
   "cell_type": "code",
   "execution_count": 12,
   "id": "a4257c61",
   "metadata": {},
   "outputs": [],
   "source": [
    "Assume_corpus = 'Hello there, How are you doing today? the weather is great and you should enjoy the sun'"
   ]
  },
  {
   "cell_type": "code",
   "execution_count": 15,
   "id": "6e99c3dc",
   "metadata": {},
   "outputs": [
    {
     "name": "stdout",
     "output_type": "stream",
     "text": [
      "['Hello', 'there', ',', 'How', 'are', 'you', 'doing', 'today', '?', 'the', 'weather', 'is', 'great', 'and', 'you', 'should', 'enjoy', 'the', 'sun']\n"
     ]
    }
   ],
   "source": [
    "print(word_tokenize(Assume_corpus))"
   ]
  },
  {
   "cell_type": "code",
   "execution_count": 16,
   "id": "36fa09d5",
   "metadata": {},
   "outputs": [
    {
     "name": "stdout",
     "output_type": "stream",
     "text": [
      "['Hello there, How are you doing today?', 'the weather is great and you should enjoy the sun']\n"
     ]
    }
   ],
   "source": [
    "print(sent_tokenize(Assume_corpus))"
   ]
  },
  {
   "cell_type": "code",
   "execution_count": 17,
   "id": "10fd4801",
   "metadata": {},
   "outputs": [
    {
     "name": "stdout",
     "output_type": "stream",
     "text": [
      "Hello\n",
      "there\n",
      ",\n",
      "How\n",
      "are\n",
      "you\n",
      "doing\n",
      "today\n",
      "?\n",
      "the\n",
      "weather\n",
      "is\n",
      "great\n",
      "and\n",
      "you\n",
      "should\n",
      "enjoy\n",
      "the\n",
      "sun\n"
     ]
    }
   ],
   "source": [
    "for i in word_tokenize(Assume_corpus):\n",
    "    print(i)"
   ]
  },
  {
   "cell_type": "code",
   "execution_count": null,
   "id": "4b7ab703",
   "metadata": {},
   "outputs": [],
   "source": [
    "    "
   ]
  }
 ],
 "metadata": {
  "kernelspec": {
   "display_name": "Python 3 (ipykernel)",
   "language": "python",
   "name": "python3"
  },
  "language_info": {
   "codemirror_mode": {
    "name": "ipython",
    "version": 3
   },
   "file_extension": ".py",
   "mimetype": "text/x-python",
   "name": "python",
   "nbconvert_exporter": "python",
   "pygments_lexer": "ipython3",
   "version": "3.9.7"
  }
 },
 "nbformat": 4,
 "nbformat_minor": 5
}
